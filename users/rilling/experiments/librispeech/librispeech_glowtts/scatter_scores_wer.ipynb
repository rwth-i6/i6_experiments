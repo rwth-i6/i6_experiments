{
 "cells": [
  {
   "cell_type": "code",
   "execution_count": 2,
   "metadata": {},
   "outputs": [],
   "source": [
    "import matplotlib.pyplot as plt\n",
    "import numpy as np\n",
    "import pandas as pd\n",
    "import glob"
   ]
  },
  {
   "cell_type": "code",
   "execution_count": 3,
   "metadata": {},
   "outputs": [
    {
     "data": {
      "text/plain": [
       "['/u/lukas.rilling/experiments/glow_tts_asr_v2/alias/experiments/librispeech/librispeech_glow_asr/pytorch/blstm_2x512_d0.2_b300_fs4_glow_enc192_200epsTTS_no_silence_preprocessing/training/work/learning_rates',\n",
       " '/u/lukas.rilling/experiments/glow_tts_asr_v2/alias/experiments/librispeech/librispeech_glow_asr/pytorch/blstm_2x512_d0.2_b300_fs4_glow_with_small_enc/training/work/learning_rates',\n",
       " '/u/lukas.rilling/experiments/glow_tts_asr_v2/alias/experiments/librispeech/librispeech_glow_asr/pytorch/blstm_2x512_d0.2_b300_fs4_glow_enc192_100epsTTS/training/work/learning_rates',\n",
       " '/u/lukas.rilling/experiments/glow_tts_asr_v2/alias/experiments/librispeech/librispeech_glow_asr/pytorch/blstm_2x512_d0.2_b300_fs4_glow_nar_taco_encoder_no_silence_preprocessing/training/work/learning_rates',\n",
       " '/u/lukas.rilling/experiments/glow_tts_asr_v2/alias/experiments/librispeech/librispeech_glow_asr/pytorch/blstm_2x512_d0.2_b300_fs4_glow_nar_taco_encoder/training/work/learning_rates',\n",
       " '/u/lukas.rilling/experiments/glow_tts_asr_v2/alias/experiments/librispeech/librispeech_glow_asr/pytorch/blstm_2x512_d0.2_b300_fs4_glow_enc192_200epsTTS/training/work/learning_rates',\n",
       " '/u/lukas.rilling/experiments/glow_tts_asr_v2/alias/experiments/librispeech/librispeech_glow_asr/pytorch/blstm_2x512_d0.2_b300_fs4_glow_enc192/training/work/learning_rates',\n",
       " '/u/lukas.rilling/experiments/glow_tts_asr_v2/alias/experiments/librispeech/librispeech_glow_asr/pytorch/blstm_2x512_d0.2_b300_fs4_glow_enc192_100epsTTS_no_silence_preprocessing/training/work/learning_rates',\n",
       " '/u/lukas.rilling/experiments/glow_tts_asr_v2/alias/experiments/librispeech/librispeech_glow_asr/pytorch/blstm_2x512_d0.2_b300_fs4_glow_nar_taco_encoder_no_blstm/training/work/learning_rates',\n",
       " '/u/lukas.rilling/experiments/glow_tts_asr_v2/alias/experiments/librispeech/librispeech_glow_asr/pytorch/blstm_2x512_d0.2_b300_fs4_glow_nar_taco_encoder_no_blstm_16blocks/training/work/learning_rates',\n",
       " '/u/lukas.rilling/experiments/glow_tts_asr_v2/alias/experiments/librispeech/librispeech_glow_asr/pytorch/blstm_2x512_d0.2_b300_fs4_glow_enc192_no_silence_preprocessing/training/work/learning_rates']"
      ]
     },
     "execution_count": 3,
     "metadata": {},
     "output_type": "execute_result"
    }
   ],
   "source": [
    "path_lr_files = \"/u/lukas.rilling/experiments/glow_tts_asr_v2/alias/experiments/librispeech/librispeech_glow_asr/pytorch/blstm_2x512_d0.2_b300_fs4_glow*/training/work/learning_rates\"\n",
    "\n",
    "lrs = glob.glob(path_lr_files)\n",
    "lrs"
   ]
  },
  {
   "cell_type": "code",
   "execution_count": 4,
   "metadata": {},
   "outputs": [
    {
     "data": {
      "text/plain": [
       "['/u/lukas.rilling/experiments/glow_tts_asr_v2/alias/experiments/librispeech/tts_architecture/glow_tts/raw_audio/glowTTS_enc192_lr1e-6_5e-4_1e-6/training/work/learning_rates',\n",
       " '/u/lukas.rilling/experiments/glow_tts_asr_v2/alias/experiments/librispeech/tts_architecture/glow_tts/raw_audio/glowTTS_enc192_100ep/training/work/learning_rates',\n",
       " '/u/lukas.rilling/experiments/glow_tts_asr_v2/alias/experiments/librispeech/tts_architecture/glow_tts/raw_audio/glowTTS_enc192_200ep_long_cooldown_silence_preprocessed/training/work/learning_rates',\n",
       " '/u/lukas.rilling/experiments/glow_tts_asr_v2/alias/experiments/librispeech/tts_architecture/glow_tts/raw_audio/glowTTS_enc192_200ep_long_cooldown/training/work/learning_rates',\n",
       " '/u/lukas.rilling/experiments/glow_tts_asr_v2/alias/experiments/librispeech/tts_architecture/glow_tts/raw_audio/glowTTS_enc192_200ep_long_cooldown_fs4_silence_preprocessed/training/work/learning_rates',\n",
       " '/u/lukas.rilling/experiments/glow_tts_asr_v2/alias/experiments/librispeech/tts_architecture/glow_tts/raw_audio/glowTTS_enc192_100ep_silence_preprocessed/training/work/learning_rates',\n",
       " '/u/lukas.rilling/experiments/glow_tts_asr_v2/alias/experiments/librispeech/tts_architecture/glow_tts/raw_audio/glowTTS_enc192_200ep_RAdam_silence_preprocessed__lr1e-6/training/work/learning_rates',\n",
       " '/u/lukas.rilling/experiments/glow_tts_asr_v2/alias/experiments/librispeech/tts_architecture/glow_tts/raw_audio/glowTTS_enc192_200ep_RAdam_silence_preprocessed_lr1e-4/training/work/learning_rates',\n",
       " '/u/lukas.rilling/experiments/glow_tts_asr_v2/alias/experiments/librispeech/tts_architecture/glow_tts/raw_audio/glowTTS_enc192_200ep_RAdam_silence_preprocessed__lr1e-5/training/work/learning_rates',\n",
       " '/u/lukas.rilling/experiments/glow_tts_asr_v2/alias/experiments/librispeech/tts_architecture/glow_tts/raw_audio/glowTTS_nar_taco_encoder_no_blstm_silence_preprocessed/training/work/learning_rates',\n",
       " '/u/lukas.rilling/experiments/glow_tts_asr_v2/alias/experiments/librispeech/tts_architecture/glow_tts/raw_audio/glowTTS_nar_taco_encoder/training/work/learning_rates',\n",
       " '/u/lukas.rilling/experiments/glow_tts_asr_v2/alias/experiments/librispeech/tts_architecture/glow_tts/raw_audio/glowTTS_nar_taco_encoder_no_blstm_16blocks_silence_preprocessed/training/work/learning_rates',\n",
       " '/u/lukas.rilling/experiments/glow_tts_asr_v2/alias/experiments/librispeech/tts_architecture/glow_tts/raw_audio/glowTTS_nar_taco_encoder_silence_preprocessed/training/work/learning_rates']"
      ]
     },
     "execution_count": 4,
     "metadata": {},
     "output_type": "execute_result"
    }
   ],
   "source": [
    "path_tts_lr_files = [\"/u/lukas.rilling/experiments/glow_tts_asr_v2/alias/experiments/librispeech/tts_architecture/glow_tts/raw_audio/glowTTS_enc192*/training/work/learning_rates\", \"/u/lukas.rilling/experiments/glow_tts_asr_v2/alias/experiments/librispeech/tts_architecture/glow_tts/raw_audio/glowTTS_nar_taco_encoder*/training/work/learning_rates\"]\n",
    "\n",
    "tts_lrs = []\n",
    "\n",
    "for f in path_tts_lr_files:\n",
    "    tts_lrs.extend(glob.glob(f))\n",
    "\n",
    "tts_lrs"
   ]
  },
  {
   "cell_type": "code",
   "execution_count": 5,
   "metadata": {},
   "outputs": [],
   "source": [
    "asr_tts_dict = {\n",
    "    \"blstm_2x512_d0.2_b300_fs4_glow_nar_taco_encoder\": \"glowTTS_nar_taco_encoder_silence_preprocessed\",\n",
    "    \"blstm_2x512_d0.2_b300_fs4_glow_enc192_200epsTTS_no_silence_preprocessing\": \"glowTTS_enc192_200ep_long_cooldown\",\n",
    "    \"blstm_2x512_d0.2_b300_fs4_glow_enc192_100epsTTS\": \"glowTTS_enc192_100ep_silence_preprocessed\",\n",
    "    \"blstm_2x512_d0.2_b300_fs4_glow_nar_taco_encoder_no_silence_preprocessing\": \"glowTTS_nar_taco_encoder\",\n",
    "    \"blstm_2x512_d0.2_b300_fs4_glow_enc192_200epsTTS\": \"glowTTS_enc192_200ep_long_cooldown_silence_preprocessed\",\n",
    "    \"blstm_2x512_d0.2_b300_fs4_glow_enc192_100epsTTS_no_silence_preprocessing\": \"glowTTS_enc192_100ep\",\n",
    "    \"blstm_2x512_d0.2_b300_fs4_glow_nar_taco_encoder_no_blstm\": \"glowTTS_nar_taco_encoder_no_blstm_silence_preprocessed\",\n",
    "    \"blstm_2x512_d0.2_b300_fs4_glow_nar_taco_encoder_no_blstm_16blocks\": \"glowTTS_nar_taco_encoder_no_blstm_16blocks_silence_preprocessed\"\n",
    "}\n",
    "\n",
    "asr_tts_dict = {v: k for k, v in asr_tts_dict.items()}"
   ]
  },
  {
   "cell_type": "code",
   "execution_count": 6,
   "metadata": {},
   "outputs": [],
   "source": [
    "path_wer_files = \"/u/lukas.rilling/experiments/glow_tts_asr_v2/output/experiments/librispeech/librispeech_glow_asr/pytorch/blstm_2x512_d0.2_b300_fs4*/default_250/dev-other/sclite/wer\"\n",
    "\n",
    "wers = glob.glob(path_wer_files)"
   ]
  },
  {
   "cell_type": "code",
   "execution_count": 7,
   "metadata": {},
   "outputs": [],
   "source": [
    "def EpochData(learningRate, error):\n",
    "  return {'learning_rate': learningRate, 'error': error}\n",
    "\n",
    "def get_epoch_data(filename, epoch):\n",
    "  def _get_last_epoch(epoch_data):\n",
    "    return max([ep for ep in epoch_data.keys() if epoch_data[ep]['error']])\n",
    "\n",
    "  if not os.path.exists(filename):\n",
    "    return None\n",
    "  if os.path.isdir(filename):\n",
    "    if os.path.exists(os.path.join(filename, 'work/learning_rates')):\n",
    "      filename = os.path.join(filename, 'work/learning_rates')\n",
    "    else: \n",
    "      return None\n",
    "  with open(filename, 'r') as f:\n",
    "    data = eval(f.read())\n",
    "  if epoch is None:\n",
    "    return data\n",
    "  last_epoch = _get_last_epoch(data)  #sorted(list(data.keys()))[-1]\n",
    "  if epoch == 'last':\n",
    "    epoch = last_epoch\n",
    "  else:\n",
    "    try:\n",
    "      epoch = int(epoch)\n",
    "    except ValueError:\n",
    "      raise ValueError('epoch must be \"last\" or int')\n",
    "    epoch = min(epoch, last_epoch)\n",
    "  progr = data[epoch]\n",
    "  progr['epoch'] = epoch\n",
    "  return progr"
   ]
  },
  {
   "cell_type": "code",
   "execution_count": 8,
   "metadata": {},
   "outputs": [
    {
     "data": {
      "text/html": [
       "<div>\n",
       "<style scoped>\n",
       "    .dataframe tbody tr th:only-of-type {\n",
       "        vertical-align: middle;\n",
       "    }\n",
       "\n",
       "    .dataframe tbody tr th {\n",
       "        vertical-align: top;\n",
       "    }\n",
       "\n",
       "    .dataframe thead th {\n",
       "        text-align: right;\n",
       "    }\n",
       "</style>\n",
       "<table border=\"1\" class=\"dataframe\">\n",
       "  <thead>\n",
       "    <tr style=\"text-align: right;\">\n",
       "      <th></th>\n",
       "      <th>ctc</th>\n",
       "      <th>dev_loss_ctc</th>\n",
       "      <th>dev_loss_dp</th>\n",
       "      <th>dev_loss_mle</th>\n",
       "      <th>dp</th>\n",
       "      <th>mle</th>\n",
       "    </tr>\n",
       "  </thead>\n",
       "  <tbody>\n",
       "    <tr>\n",
       "      <th>blstm_2x512_d0.2_b300_fs4_glow_enc192_200epsTTS_no_silence_preprocessing</th>\n",
       "      <td>0.449083</td>\n",
       "      <td>1.041730</td>\n",
       "      <td>0.432932</td>\n",
       "      <td>-0.694879</td>\n",
       "      <td>0.411271</td>\n",
       "      <td>-0.839926</td>\n",
       "    </tr>\n",
       "    <tr>\n",
       "      <th>blstm_2x512_d0.2_b300_fs4_glow_enc192_100epsTTS</th>\n",
       "      <td>0.350058</td>\n",
       "      <td>1.065886</td>\n",
       "      <td>0.385518</td>\n",
       "      <td>-0.805740</td>\n",
       "      <td>0.373986</td>\n",
       "      <td>-0.819508</td>\n",
       "    </tr>\n",
       "    <tr>\n",
       "      <th>blstm_2x512_d0.2_b300_fs4_glow_nar_taco_encoder_no_silence_preprocessing</th>\n",
       "      <td>0.668469</td>\n",
       "      <td>1.025836</td>\n",
       "      <td>0.455673</td>\n",
       "      <td>-0.707680</td>\n",
       "      <td>0.411171</td>\n",
       "      <td>-0.844504</td>\n",
       "    </tr>\n",
       "    <tr>\n",
       "      <th>blstm_2x512_d0.2_b300_fs4_glow_nar_taco_encoder</th>\n",
       "      <td>0.621997</td>\n",
       "      <td>1.080998</td>\n",
       "      <td>0.423963</td>\n",
       "      <td>-0.813688</td>\n",
       "      <td>0.386848</td>\n",
       "      <td>-0.829622</td>\n",
       "    </tr>\n",
       "    <tr>\n",
       "      <th>blstm_2x512_d0.2_b300_fs4_glow_enc192_200epsTTS</th>\n",
       "      <td>0.407532</td>\n",
       "      <td>1.039962</td>\n",
       "      <td>0.390598</td>\n",
       "      <td>-0.807288</td>\n",
       "      <td>0.377117</td>\n",
       "      <td>-0.822150</td>\n",
       "    </tr>\n",
       "    <tr>\n",
       "      <th>blstm_2x512_d0.2_b300_fs4_glow_enc192_100epsTTS_no_silence_preprocessing</th>\n",
       "      <td>0.384983</td>\n",
       "      <td>1.046416</td>\n",
       "      <td>0.423657</td>\n",
       "      <td>-0.770533</td>\n",
       "      <td>0.406652</td>\n",
       "      <td>-0.836500</td>\n",
       "    </tr>\n",
       "    <tr>\n",
       "      <th>blstm_2x512_d0.2_b300_fs4_glow_nar_taco_encoder_no_blstm</th>\n",
       "      <td>0.248099</td>\n",
       "      <td>1.134706</td>\n",
       "      <td>0.496480</td>\n",
       "      <td>-0.754337</td>\n",
       "      <td>0.515711</td>\n",
       "      <td>-0.763240</td>\n",
       "    </tr>\n",
       "    <tr>\n",
       "      <th>blstm_2x512_d0.2_b300_fs4_glow_nar_taco_encoder_no_blstm_16blocks</th>\n",
       "      <td>0.105269</td>\n",
       "      <td>1.319597</td>\n",
       "      <td>0.390617</td>\n",
       "      <td>-0.805962</td>\n",
       "      <td>0.380009</td>\n",
       "      <td>-0.820648</td>\n",
       "    </tr>\n",
       "  </tbody>\n",
       "</table>\n",
       "</div>"
      ],
      "text/plain": [
       "                                                         ctc  dev_loss_ctc  \\\n",
       "blstm_2x512_d0.2_b300_fs4_glow_enc192_200epsTTS...  0.449083      1.041730   \n",
       "blstm_2x512_d0.2_b300_fs4_glow_enc192_100epsTTS     0.350058      1.065886   \n",
       "blstm_2x512_d0.2_b300_fs4_glow_nar_taco_encoder...  0.668469      1.025836   \n",
       "blstm_2x512_d0.2_b300_fs4_glow_nar_taco_encoder     0.621997      1.080998   \n",
       "blstm_2x512_d0.2_b300_fs4_glow_enc192_200epsTTS     0.407532      1.039962   \n",
       "blstm_2x512_d0.2_b300_fs4_glow_enc192_100epsTTS...  0.384983      1.046416   \n",
       "blstm_2x512_d0.2_b300_fs4_glow_nar_taco_encoder...  0.248099      1.134706   \n",
       "blstm_2x512_d0.2_b300_fs4_glow_nar_taco_encoder...  0.105269      1.319597   \n",
       "\n",
       "                                                    dev_loss_dp  dev_loss_mle  \\\n",
       "blstm_2x512_d0.2_b300_fs4_glow_enc192_200epsTTS...     0.432932     -0.694879   \n",
       "blstm_2x512_d0.2_b300_fs4_glow_enc192_100epsTTS        0.385518     -0.805740   \n",
       "blstm_2x512_d0.2_b300_fs4_glow_nar_taco_encoder...     0.455673     -0.707680   \n",
       "blstm_2x512_d0.2_b300_fs4_glow_nar_taco_encoder        0.423963     -0.813688   \n",
       "blstm_2x512_d0.2_b300_fs4_glow_enc192_200epsTTS        0.390598     -0.807288   \n",
       "blstm_2x512_d0.2_b300_fs4_glow_enc192_100epsTTS...     0.423657     -0.770533   \n",
       "blstm_2x512_d0.2_b300_fs4_glow_nar_taco_encoder...     0.496480     -0.754337   \n",
       "blstm_2x512_d0.2_b300_fs4_glow_nar_taco_encoder...     0.390617     -0.805962   \n",
       "\n",
       "                                                          dp       mle  \n",
       "blstm_2x512_d0.2_b300_fs4_glow_enc192_200epsTTS...  0.411271 -0.839926  \n",
       "blstm_2x512_d0.2_b300_fs4_glow_enc192_100epsTTS     0.373986 -0.819508  \n",
       "blstm_2x512_d0.2_b300_fs4_glow_nar_taco_encoder...  0.411171 -0.844504  \n",
       "blstm_2x512_d0.2_b300_fs4_glow_nar_taco_encoder     0.386848 -0.829622  \n",
       "blstm_2x512_d0.2_b300_fs4_glow_enc192_200epsTTS     0.377117 -0.822150  \n",
       "blstm_2x512_d0.2_b300_fs4_glow_enc192_100epsTTS...  0.406652 -0.836500  \n",
       "blstm_2x512_d0.2_b300_fs4_glow_nar_taco_encoder...  0.515711 -0.763240  \n",
       "blstm_2x512_d0.2_b300_fs4_glow_nar_taco_encoder...  0.380009 -0.820648  "
      ]
     },
     "execution_count": 8,
     "metadata": {},
     "output_type": "execute_result"
    }
   ],
   "source": [
    "import os.path\n",
    "import re\n",
    "lr_prefix = os.path.commonpath(lrs) + \"/\"\n",
    "lr_suffix = \"/\" + os.path.commonpath([l[::-1] for l in lrs])[::-1]\n",
    "\n",
    "error_data = {}\n",
    "for l in lrs:\n",
    "    key = l.replace(lr_prefix, \"\").replace(lr_suffix, \"\")\n",
    "    # print(key)\n",
    "    if re.search(\"_lm|beam|drop_around\", key):\n",
    "        continue\n",
    "    with open(l, \"r\") as f:\n",
    "        error_data[key] = get_epoch_data(l, epoch=\"last\")[\"error\"]\n",
    "\n",
    "lr_prefix = os.path.commonpath(tts_lrs) + \"/\"\n",
    "lr_suffix = \"/\" + os.path.commonpath([l[::-1] for l in tts_lrs])[::-1]\n",
    "tts_error_data = {}\n",
    "for l in tts_lrs:\n",
    "    key = l.replace(lr_prefix, \"\").replace(lr_suffix, \"\")\n",
    "    if key in asr_tts_dict.keys():\n",
    "        with open(l, \"r\") as f:\n",
    "            tts_error_data[asr_tts_dict[key]] = get_epoch_data(l, epoch=\"last\")[\"error\"]\n",
    "\n",
    "lr_df = pd.DataFrame(error_data).transpose()\n",
    "tts_lr_df = pd.DataFrame(tts_error_data).transpose()\n",
    "lrs_df = lr_df.join(tts_lr_df).dropna()\n",
    "lrs_df"
   ]
  },
  {
   "cell_type": "code",
   "execution_count": null,
   "metadata": {},
   "outputs": [],
   "source": []
  },
  {
   "cell_type": "code",
   "execution_count": 9,
   "metadata": {},
   "outputs": [],
   "source": [
    "wer_prefix = os.path.commonpath(wers) + \"/\"\n",
    "wer_suffix = \"/\" + os.path.commonpath([w[::-1] for w in wers])[::-1]\n",
    "\n",
    "wer_data = {}\n",
    "for w in wers:\n",
    "    key = w.removeprefix(wer_prefix).removesuffix(wer_suffix)\n",
    "    with open(w, \"r\") as f:\n",
    "        wer_data[key] = {\"wer\": float(f.read().removesuffix(\"\\n\"))}\n",
    "\n",
    "wer_df = pd.DataFrame(wer_data).transpose()\n"
   ]
  },
  {
   "cell_type": "code",
   "execution_count": 10,
   "metadata": {},
   "outputs": [
    {
     "data": {
      "text/html": [
       "<div>\n",
       "<style scoped>\n",
       "    .dataframe tbody tr th:only-of-type {\n",
       "        vertical-align: middle;\n",
       "    }\n",
       "\n",
       "    .dataframe tbody tr th {\n",
       "        vertical-align: top;\n",
       "    }\n",
       "\n",
       "    .dataframe thead th {\n",
       "        text-align: right;\n",
       "    }\n",
       "</style>\n",
       "<table border=\"1\" class=\"dataframe\">\n",
       "  <thead>\n",
       "    <tr style=\"text-align: right;\">\n",
       "      <th></th>\n",
       "      <th>ctc</th>\n",
       "      <th>dev_loss_ctc</th>\n",
       "      <th>dev_loss_dp</th>\n",
       "      <th>dev_loss_mle</th>\n",
       "      <th>dp</th>\n",
       "      <th>mle</th>\n",
       "      <th>wer</th>\n",
       "      <th>overfitting</th>\n",
       "    </tr>\n",
       "  </thead>\n",
       "  <tbody>\n",
       "    <tr>\n",
       "      <th>blstm_2x512_d0.2_b300_fs4_glow_nar_taco_encoder_no_blstm_16blocks</th>\n",
       "      <td>0.105269</td>\n",
       "      <td>1.319597</td>\n",
       "      <td>0.390617</td>\n",
       "      <td>-0.805962</td>\n",
       "      <td>0.380009</td>\n",
       "      <td>-0.820648</td>\n",
       "      <td>55.1</td>\n",
       "      <td>1.214328</td>\n",
       "    </tr>\n",
       "    <tr>\n",
       "      <th>blstm_2x512_d0.2_b300_fs4_glow_nar_taco_encoder_no_blstm</th>\n",
       "      <td>0.248099</td>\n",
       "      <td>1.134706</td>\n",
       "      <td>0.496480</td>\n",
       "      <td>-0.754337</td>\n",
       "      <td>0.515711</td>\n",
       "      <td>-0.763240</td>\n",
       "      <td>56.3</td>\n",
       "      <td>0.886607</td>\n",
       "    </tr>\n",
       "    <tr>\n",
       "      <th>blstm_2x512_d0.2_b300_fs4_glow_enc192_100epsTTS_no_silence_preprocessing</th>\n",
       "      <td>0.384983</td>\n",
       "      <td>1.046416</td>\n",
       "      <td>0.423657</td>\n",
       "      <td>-0.770533</td>\n",
       "      <td>0.406652</td>\n",
       "      <td>-0.836500</td>\n",
       "      <td>60.6</td>\n",
       "      <td>0.661433</td>\n",
       "    </tr>\n",
       "    <tr>\n",
       "      <th>blstm_2x512_d0.2_b300_fs4_glow_enc192_100epsTTS</th>\n",
       "      <td>0.350058</td>\n",
       "      <td>1.065886</td>\n",
       "      <td>0.385518</td>\n",
       "      <td>-0.805740</td>\n",
       "      <td>0.373986</td>\n",
       "      <td>-0.819508</td>\n",
       "      <td>60.8</td>\n",
       "      <td>0.715827</td>\n",
       "    </tr>\n",
       "    <tr>\n",
       "      <th>blstm_2x512_d0.2_b300_fs4_glow_enc192_200epsTTS_no_silence_preprocessing</th>\n",
       "      <td>0.449083</td>\n",
       "      <td>1.041730</td>\n",
       "      <td>0.432932</td>\n",
       "      <td>-0.694879</td>\n",
       "      <td>0.411271</td>\n",
       "      <td>-0.839926</td>\n",
       "      <td>61.8</td>\n",
       "      <td>0.592648</td>\n",
       "    </tr>\n",
       "    <tr>\n",
       "      <th>blstm_2x512_d0.2_b300_fs4_glow_enc192_200epsTTS</th>\n",
       "      <td>0.407532</td>\n",
       "      <td>1.039962</td>\n",
       "      <td>0.390598</td>\n",
       "      <td>-0.807288</td>\n",
       "      <td>0.377117</td>\n",
       "      <td>-0.822150</td>\n",
       "      <td>61.8</td>\n",
       "      <td>0.632430</td>\n",
       "    </tr>\n",
       "    <tr>\n",
       "      <th>blstm_2x512_d0.2_b300_fs4_glow_nar_taco_encoder_no_silence_preprocessing</th>\n",
       "      <td>0.668469</td>\n",
       "      <td>1.025836</td>\n",
       "      <td>0.455673</td>\n",
       "      <td>-0.707680</td>\n",
       "      <td>0.411171</td>\n",
       "      <td>-0.844504</td>\n",
       "      <td>66.2</td>\n",
       "      <td>0.357367</td>\n",
       "    </tr>\n",
       "    <tr>\n",
       "      <th>blstm_2x512_d0.2_b300_fs4_glow_nar_taco_encoder</th>\n",
       "      <td>0.621997</td>\n",
       "      <td>1.080998</td>\n",
       "      <td>0.423963</td>\n",
       "      <td>-0.813688</td>\n",
       "      <td>0.386848</td>\n",
       "      <td>-0.829622</td>\n",
       "      <td>67.7</td>\n",
       "      <td>0.459001</td>\n",
       "    </tr>\n",
       "  </tbody>\n",
       "</table>\n",
       "</div>"
      ],
      "text/plain": [
       "                                                         ctc  dev_loss_ctc  \\\n",
       "blstm_2x512_d0.2_b300_fs4_glow_nar_taco_encoder...  0.105269      1.319597   \n",
       "blstm_2x512_d0.2_b300_fs4_glow_nar_taco_encoder...  0.248099      1.134706   \n",
       "blstm_2x512_d0.2_b300_fs4_glow_enc192_100epsTTS...  0.384983      1.046416   \n",
       "blstm_2x512_d0.2_b300_fs4_glow_enc192_100epsTTS     0.350058      1.065886   \n",
       "blstm_2x512_d0.2_b300_fs4_glow_enc192_200epsTTS...  0.449083      1.041730   \n",
       "blstm_2x512_d0.2_b300_fs4_glow_enc192_200epsTTS     0.407532      1.039962   \n",
       "blstm_2x512_d0.2_b300_fs4_glow_nar_taco_encoder...  0.668469      1.025836   \n",
       "blstm_2x512_d0.2_b300_fs4_glow_nar_taco_encoder     0.621997      1.080998   \n",
       "\n",
       "                                                    dev_loss_dp  dev_loss_mle  \\\n",
       "blstm_2x512_d0.2_b300_fs4_glow_nar_taco_encoder...     0.390617     -0.805962   \n",
       "blstm_2x512_d0.2_b300_fs4_glow_nar_taco_encoder...     0.496480     -0.754337   \n",
       "blstm_2x512_d0.2_b300_fs4_glow_enc192_100epsTTS...     0.423657     -0.770533   \n",
       "blstm_2x512_d0.2_b300_fs4_glow_enc192_100epsTTS        0.385518     -0.805740   \n",
       "blstm_2x512_d0.2_b300_fs4_glow_enc192_200epsTTS...     0.432932     -0.694879   \n",
       "blstm_2x512_d0.2_b300_fs4_glow_enc192_200epsTTS        0.390598     -0.807288   \n",
       "blstm_2x512_d0.2_b300_fs4_glow_nar_taco_encoder...     0.455673     -0.707680   \n",
       "blstm_2x512_d0.2_b300_fs4_glow_nar_taco_encoder        0.423963     -0.813688   \n",
       "\n",
       "                                                          dp       mle   wer  \\\n",
       "blstm_2x512_d0.2_b300_fs4_glow_nar_taco_encoder...  0.380009 -0.820648  55.1   \n",
       "blstm_2x512_d0.2_b300_fs4_glow_nar_taco_encoder...  0.515711 -0.763240  56.3   \n",
       "blstm_2x512_d0.2_b300_fs4_glow_enc192_100epsTTS...  0.406652 -0.836500  60.6   \n",
       "blstm_2x512_d0.2_b300_fs4_glow_enc192_100epsTTS     0.373986 -0.819508  60.8   \n",
       "blstm_2x512_d0.2_b300_fs4_glow_enc192_200epsTTS...  0.411271 -0.839926  61.8   \n",
       "blstm_2x512_d0.2_b300_fs4_glow_enc192_200epsTTS     0.377117 -0.822150  61.8   \n",
       "blstm_2x512_d0.2_b300_fs4_glow_nar_taco_encoder...  0.411171 -0.844504  66.2   \n",
       "blstm_2x512_d0.2_b300_fs4_glow_nar_taco_encoder     0.386848 -0.829622  67.7   \n",
       "\n",
       "                                                    overfitting  \n",
       "blstm_2x512_d0.2_b300_fs4_glow_nar_taco_encoder...     1.214328  \n",
       "blstm_2x512_d0.2_b300_fs4_glow_nar_taco_encoder...     0.886607  \n",
       "blstm_2x512_d0.2_b300_fs4_glow_enc192_100epsTTS...     0.661433  \n",
       "blstm_2x512_d0.2_b300_fs4_glow_enc192_100epsTTS        0.715827  \n",
       "blstm_2x512_d0.2_b300_fs4_glow_enc192_200epsTTS...     0.592648  \n",
       "blstm_2x512_d0.2_b300_fs4_glow_enc192_200epsTTS        0.632430  \n",
       "blstm_2x512_d0.2_b300_fs4_glow_nar_taco_encoder...     0.357367  \n",
       "blstm_2x512_d0.2_b300_fs4_glow_nar_taco_encoder        0.459001  "
      ]
     },
     "execution_count": 10,
     "metadata": {},
     "output_type": "execute_result"
    }
   ],
   "source": [
    "df = lrs_df.join(wer_df).dropna()\n",
    "df[\"overfitting\"] = df[\"dev_loss_ctc\"] - df[\"ctc\"]\n",
    "df.sort_values(\"wer\")"
   ]
  },
  {
   "cell_type": "code",
   "execution_count": 11,
   "metadata": {},
   "outputs": [
    {
     "data": {
      "text/html": [
       "<div>\n",
       "<style scoped>\n",
       "    .dataframe tbody tr th:only-of-type {\n",
       "        vertical-align: middle;\n",
       "    }\n",
       "\n",
       "    .dataframe tbody tr th {\n",
       "        vertical-align: top;\n",
       "    }\n",
       "\n",
       "    .dataframe thead th {\n",
       "        text-align: right;\n",
       "    }\n",
       "</style>\n",
       "<table border=\"1\" class=\"dataframe\">\n",
       "  <thead>\n",
       "    <tr style=\"text-align: right;\">\n",
       "      <th></th>\n",
       "      <th>ctc</th>\n",
       "      <th>dev_loss_ctc</th>\n",
       "      <th>dev_loss_dp</th>\n",
       "      <th>dev_loss_mle</th>\n",
       "      <th>dp</th>\n",
       "      <th>mle</th>\n",
       "      <th>wer</th>\n",
       "      <th>overfitting</th>\n",
       "    </tr>\n",
       "  </thead>\n",
       "  <tbody>\n",
       "    <tr>\n",
       "      <th>ctc</th>\n",
       "      <td>1.000000</td>\n",
       "      <td>-0.758076</td>\n",
       "      <td>0.193071</td>\n",
       "      <td>0.336384</td>\n",
       "      <td>-0.173255</td>\n",
       "      <td>-0.543784</td>\n",
       "      <td>0.973273</td>\n",
       "      <td>-0.971013</td>\n",
       "    </tr>\n",
       "    <tr>\n",
       "      <th>dev_loss_ctc</th>\n",
       "      <td>-0.758076</td>\n",
       "      <td>1.000000</td>\n",
       "      <td>-0.167171</td>\n",
       "      <td>-0.374412</td>\n",
       "      <td>0.020587</td>\n",
       "      <td>0.339732</td>\n",
       "      <td>-0.691950</td>\n",
       "      <td>0.891988</td>\n",
       "    </tr>\n",
       "    <tr>\n",
       "      <th>dev_loss_dp</th>\n",
       "      <td>0.193071</td>\n",
       "      <td>-0.167171</td>\n",
       "      <td>1.000000</td>\n",
       "      <td>0.606708</td>\n",
       "      <td>0.914806</td>\n",
       "      <td>0.481271</td>\n",
       "      <td>0.006021</td>\n",
       "      <td>-0.195101</td>\n",
       "    </tr>\n",
       "    <tr>\n",
       "      <th>dev_loss_mle</th>\n",
       "      <td>0.336384</td>\n",
       "      <td>-0.374412</td>\n",
       "      <td>0.606708</td>\n",
       "      <td>1.000000</td>\n",
       "      <td>0.420190</td>\n",
       "      <td>-0.191892</td>\n",
       "      <td>0.145764</td>\n",
       "      <td>-0.370398</td>\n",
       "    </tr>\n",
       "    <tr>\n",
       "      <th>dp</th>\n",
       "      <td>-0.173255</td>\n",
       "      <td>0.020587</td>\n",
       "      <td>0.914806</td>\n",
       "      <td>0.420190</td>\n",
       "      <td>1.000000</td>\n",
       "      <td>0.758268</td>\n",
       "      <td>-0.345110</td>\n",
       "      <td>0.127641</td>\n",
       "    </tr>\n",
       "    <tr>\n",
       "      <th>mle</th>\n",
       "      <td>-0.543784</td>\n",
       "      <td>0.339732</td>\n",
       "      <td>0.481271</td>\n",
       "      <td>-0.191892</td>\n",
       "      <td>0.758268</td>\n",
       "      <td>1.000000</td>\n",
       "      <td>-0.600242</td>\n",
       "      <td>0.501449</td>\n",
       "    </tr>\n",
       "    <tr>\n",
       "      <th>wer</th>\n",
       "      <td>0.973273</td>\n",
       "      <td>-0.691950</td>\n",
       "      <td>0.006021</td>\n",
       "      <td>0.145764</td>\n",
       "      <td>-0.345110</td>\n",
       "      <td>-0.600242</td>\n",
       "      <td>1.000000</td>\n",
       "      <td>-0.928250</td>\n",
       "    </tr>\n",
       "    <tr>\n",
       "      <th>overfitting</th>\n",
       "      <td>-0.971013</td>\n",
       "      <td>0.891988</td>\n",
       "      <td>-0.195101</td>\n",
       "      <td>-0.370398</td>\n",
       "      <td>0.127641</td>\n",
       "      <td>0.501449</td>\n",
       "      <td>-0.928250</td>\n",
       "      <td>1.000000</td>\n",
       "    </tr>\n",
       "  </tbody>\n",
       "</table>\n",
       "</div>"
      ],
      "text/plain": [
       "                   ctc  dev_loss_ctc  dev_loss_dp  dev_loss_mle        dp  \\\n",
       "ctc           1.000000     -0.758076     0.193071      0.336384 -0.173255   \n",
       "dev_loss_ctc -0.758076      1.000000    -0.167171     -0.374412  0.020587   \n",
       "dev_loss_dp   0.193071     -0.167171     1.000000      0.606708  0.914806   \n",
       "dev_loss_mle  0.336384     -0.374412     0.606708      1.000000  0.420190   \n",
       "dp           -0.173255      0.020587     0.914806      0.420190  1.000000   \n",
       "mle          -0.543784      0.339732     0.481271     -0.191892  0.758268   \n",
       "wer           0.973273     -0.691950     0.006021      0.145764 -0.345110   \n",
       "overfitting  -0.971013      0.891988    -0.195101     -0.370398  0.127641   \n",
       "\n",
       "                   mle       wer  overfitting  \n",
       "ctc          -0.543784  0.973273    -0.971013  \n",
       "dev_loss_ctc  0.339732 -0.691950     0.891988  \n",
       "dev_loss_dp   0.481271  0.006021    -0.195101  \n",
       "dev_loss_mle -0.191892  0.145764    -0.370398  \n",
       "dp            0.758268 -0.345110     0.127641  \n",
       "mle           1.000000 -0.600242     0.501449  \n",
       "wer          -0.600242  1.000000    -0.928250  \n",
       "overfitting   0.501449 -0.928250     1.000000  "
      ]
     },
     "execution_count": 11,
     "metadata": {},
     "output_type": "execute_result"
    }
   ],
   "source": [
    "df.corr()"
   ]
  },
  {
   "cell_type": "code",
   "execution_count": 43,
   "metadata": {},
   "outputs": [
    {
     "data": {
      "text/plain": [
       "<Axes: xlabel='ctc', ylabel='wer'>"
      ]
     },
     "execution_count": 43,
     "metadata": {},
     "output_type": "execute_result"
    },
    {
     "data": {
      "image/png": "[encoded data removed]",
      "text/plain": [
       "<Figure size 640x480 with 1 Axes>"
      ]
     },
     "metadata": {},
     "output_type": "display_data"
    }
   ],
   "source": [
    "df.plot.scatter(\"ctc\", \"wer\")"
   ]
  },
  {
   "cell_type": "code",
   "execution_count": 44,
   "metadata": {},
   "outputs": [
    {
     "data": {
      "text/plain": [
       "<Axes: xlabel='dev_loss_ctc', ylabel='wer'>"
      ]
     },
     "execution_count": 44,
     "metadata": {},
     "output_type": "execute_result"
    },
    {
     "data": {
      "image/png": "[encoded data removed]",
      "text/plain": [
       "<Figure size 640x480 with 1 Axes>"
      ]
     },
     "metadata": {},
     "output_type": "display_data"
    }
   ],
   "source": [
    "df.plot.scatter(\"dev_loss_ctc\", \"wer\")\n"
   ]
  },
  {
   "cell_type": "code",
   "execution_count": 45,
   "metadata": {},
   "outputs": [
    {
     "data": {
      "text/plain": [
       "<Axes: xlabel='overfitting', ylabel='wer'>"
      ]
     },
     "execution_count": 45,
     "metadata": {},
     "output_type": "execute_result"
    },
    {
     "data": {
      "image/png": "[encoded data removed]",
      "text/plain": [
       "<Figure size 640x480 with 1 Axes>"
      ]
     },
     "metadata": {},
     "output_type": "display_data"
    }
   ],
   "source": [
    "df.plot.scatter(\"overfitting\", \"wer\")\n"
   ]
  },
  {
   "cell_type": "code",
   "execution_count": 47,
   "metadata": {},
   "outputs": [
    {
     "data": {
      "text/plain": [
       "<Axes: xlabel='dev_loss_mle', ylabel='wer'>"
      ]
     },
     "execution_count": 47,
     "metadata": {},
     "output_type": "execute_result"
    },
    {
     "data": {
      "image/png": "[encoded data removed]",
      "text/plain": [
       "<Figure size 640x480 with 1 Axes>"
      ]
     },
     "metadata": {},
     "output_type": "display_data"
    }
   ],
   "source": [
    "df.plot.scatter(\"dev_loss_mle\", \"wer\")"
   ]
  },
  {
   "cell_type": "code",
   "execution_count": 49,
   "metadata": {},
   "outputs": [
    {
     "data": {
      "text/plain": [
       "<Axes: xlabel='dev_loss_dp', ylabel='wer'>"
      ]
     },
     "execution_count": 49,
     "metadata": {},
     "output_type": "execute_result"
    },
    {
     "data": {
      "image/png": "[encoded data removed]",
      "text/plain": [
       "<Figure size 640x480 with 1 Axes>"
      ]
     },
     "metadata": {},
     "output_type": "display_data"
    }
   ],
   "source": [
    "df.plot.scatter(\"dev_loss_dp\", \"wer\")\n"
   ]
  }
 ],
 "metadata": {
  "kernelspec": {
   "display_name": "sis_env",
   "language": "python",
   "name": "python3"
  },
  "language_info": {
   "codemirror_mode": {
    "name": "ipython",
    "version": 3
   },
   "file_extension": ".py",
   "mimetype": "text/x-python",
   "name": "python",
   "nbconvert_exporter": "python",
   "pygments_lexer": "ipython3",
   "version": "3.10.12"
  },
  "orig_nbformat": 4
 },
 "nbformat": 4,
 "nbformat_minor": 2
}
