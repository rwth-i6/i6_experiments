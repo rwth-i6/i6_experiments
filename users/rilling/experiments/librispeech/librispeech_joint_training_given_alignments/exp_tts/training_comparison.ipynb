{
 "cells": [
  {
   "cell_type": "code",
   "execution_count": 2,
   "metadata": {},
   "outputs": [],
   "source": [
    "import sys\n",
    "sys.path.append(\"/u/lukas.rilling/dev/\")\n",
    "import pandas as pd\n",
    "import numpy as np\n",
    "import matplotlib.pyplot as plt\n",
    "import glob\n",
    "import os\n",
    "%matplotlib qt5\n",
    "\n",
    "from returnn_training_progress import get_epoch_data\n",
    "from returnn_training_plot_nb import plot_df\n",
    "%load_ext autoreload\n",
    "%autoreload 2"
   ]
  },
  {
   "cell_type": "code",
   "execution_count": 3,
   "metadata": {},
   "outputs": [
    {
     "data": {
      "text/plain": [
       "{'/u/lukas.rilling/experiments/glow_tts_asr_v2/alias/experiments/librispeech/joint_training/given_alignments/raw_audio/TTS_models/glowTTS/enc768/200ep/dec_drop_0.05/training': '/glowTTS/enc768/200ep/dec_drop_0.05/',\n",
       " '/u/lukas.rilling/experiments/glow_tts_asr_v2/alias/experiments/librispeech/joint_training/given_alignments/raw_audio/TTS_models/glowTTS/enc768/200ep/dec_drop_0.05_epsilon_1e-8/training': '/glowTTS/enc768/200ep/dec_drop_0.05_epsilon_1e-8/',\n",
       " '/u/lukas.rilling/experiments/glow_tts_asr_v2/alias/experiments/librispeech/joint_training/given_alignments/raw_audio/TTS_models/glowTTS/enc768/200ep/dec_drop_0.0_epsilon_1e-8/training': '/glowTTS/enc768/200ep/dec_drop_0.0_epsilon_1e-8/',\n",
       " '/u/lukas.rilling/experiments/glow_tts_asr_v2/alias/experiments/librispeech/joint_training/given_alignments/raw_audio/TTS_models/glowTTS/enc192/200ep/dec_drop_0.0_epsilon_1e-8/training': '/glowTTS/enc192/200ep/dec_drop_0.0_epsilon_1e-8/',\n",
       " '/u/lukas.rilling/experiments/glow_tts_asr_v2/alias/experiments/librispeech/joint_training/given_alignments/raw_audio/TTS_models/glowTTS/enc192/200ep/dec_drop_0.05/training': '/glowTTS/enc192/200ep/dec_drop_0.05/',\n",
       " '/u/lukas.rilling/experiments/glow_tts_asr_v2/alias/experiments/librispeech/joint_training/given_alignments/raw_audio/TTS_models/glowTTS/enc192/200ep/dec_drop_0.05_epsilon_1e-8/training': '/glowTTS/enc192/200ep/dec_drop_0.05_epsilon_1e-8/',\n",
       " '/u/lukas.rilling/experiments/glow_tts_asr_v2/alias/experiments/librispeech/joint_training/given_alignments/raw_audio/TTS_models/glowTTS_x_vector_v2/enc768/200ep/dec_drop_0.05/training': '/glowTTS_x_vector_v2/enc768/200ep/dec_drop_0.05/',\n",
       " '/u/lukas.rilling/experiments/glow_tts_asr_v2/alias/experiments/librispeech/joint_training/given_alignments/raw_audio/TTS_models/glowTTS_x_vector_v2/enc768/200ep/dec_drop_0.0/training': '/glowTTS_x_vector_v2/enc768/200ep/dec_drop_0.0/',\n",
       " '/u/lukas.rilling/experiments/glow_tts_asr_v2/alias/experiments/librispeech/joint_training/given_alignments/raw_audio/TTS_models/glowTTS_x_vector_v2/enc768/200ep_long_cooldown/dec_drop_0.05/training': '/glowTTS_x_vector_v2/enc768/200ep_long_cooldown/dec_drop_0.05/',\n",
       " '/u/lukas.rilling/experiments/glow_tts_asr_v2/alias/experiments/librispeech/joint_training/given_alignments/raw_audio/TTS_models/glowTTS_x_vector_v2/enc768/200ep_long_cooldown/dec_drop_0.0/training': '/glowTTS_x_vector_v2/enc768/200ep_long_cooldown/dec_drop_0.0/',\n",
       " '/u/lukas.rilling/experiments/glow_tts_asr_v2/alias/experiments/librispeech/joint_training/given_alignments/raw_audio/TTS_models/glowTTS_x_vector_v2/enc192/200ep/dec_drop_0.05/training': '/glowTTS_x_vector_v2/enc192/200ep/dec_drop_0.05/',\n",
       " '/u/lukas.rilling/experiments/glow_tts_asr_v2/alias/experiments/librispeech/joint_training/given_alignments/raw_audio/TTS_models/glowTTS_x_vector_v2/enc192/200ep/dec_drop_0.0/training': '/glowTTS_x_vector_v2/enc192/200ep/dec_drop_0.0/',\n",
       " '/u/lukas.rilling/experiments/glow_tts_asr_v2/alias/experiments/librispeech/joint_training/given_alignments/raw_audio/TTS_models/glowTTS_simple_encoder/20cb/200ep/dec_drop_0.05/training': '/glowTTS_simple_encoder/20cb/200ep/dec_drop_0.05/',\n",
       " '/u/lukas.rilling/experiments/glow_tts_asr_v2/alias/experiments/librispeech/joint_training/given_alignments/raw_audio/TTS_models/glowTTS_simple_encoder/12cb/200ep/dec_drop_0.05/training': '/glowTTS_simple_encoder/12cb/200ep/dec_drop_0.05/'}"
      ]
     },
     "execution_count": 3,
     "metadata": {},
     "output_type": "execute_result"
    }
   ],
   "source": [
    "globs = [\n",
    "    # \"/u/lukas.rilling/experiments/glow_tts_asr_v2/alias/experiments/librispeech/joint_training/given_alignments/raw_audio/TTS_models/glowTTS/enc*/*ep/dec_drop_0.0*/training\",\n",
    "    \"/u/lukas.rilling/experiments/glow_tts_asr_v2/alias/experiments/librispeech/joint_training/given_alignments/raw_audio/TTS_models/glowTTS*/enc*/200ep*/dec_drop_0.0*/training\",\n",
    "    # \"/u/lukas.rilling/experiments/glow_tts_asr_v2/alias/experiments/librispeech/joint_training/given_alignments/raw_audio/TTS_models/glowTTS_x_vector_v2/*ep/enc*/dec_drop_0.0*/training\",\n",
    "    \"/u/lukas.rilling/experiments/glow_tts_asr_v2/alias/experiments/librispeech/joint_training/given_alignments/raw_audio/TTS_models/glowTTS_simple_encoder/*/200ep/dec_drop_*/training\",\n",
    "]\n",
    "breakpoint()\n",
    "lr_files = []\n",
    "for g in globs:\n",
    "    lr_files += glob.glob(g)\n",
    "\n",
    "common_prefix = os.path.commonpath(lr_files)\n",
    "common_sufix = os.path.commonpath([l[::-1] for l in lr_files])[::-1]\n",
    "\n",
    "names = []\n",
    "for f in lr_files:\n",
    "    names.append(f.removeprefix(common_prefix).removesuffix(common_sufix))\n",
    "\n",
    "files = dict(zip(lr_files, names))\n",
    "files"
   ]
  },
  {
   "cell_type": "code",
   "execution_count": 4,
   "metadata": {},
   "outputs": [
    {
     "name": "stdout",
     "output_type": "stream",
     "text": [
      "/u/lukas.rilling/experiments/glow_tts_asr_v2/alias/experiments/librispeech/joint_training/given_alignments/raw_audio/TTS_models/glowTTS/enc768/200ep/dec_drop_0.05/training: 1\n",
      "/u/lukas.rilling/experiments/glow_tts_asr_v2/alias/experiments/librispeech/joint_training/given_alignments/raw_audio/TTS_models/glowTTS/enc768/200ep/dec_drop_0.05_epsilon_1e-8/training: 1\n",
      "/u/lukas.rilling/experiments/glow_tts_asr_v2/alias/experiments/librispeech/joint_training/given_alignments/raw_audio/TTS_models/glowTTS/enc768/200ep/dec_drop_0.0_epsilon_1e-8/training: 1\n",
      "/u/lukas.rilling/experiments/glow_tts_asr_v2/alias/experiments/librispeech/joint_training/given_alignments/raw_audio/TTS_models/glowTTS/enc192/200ep/dec_drop_0.0_epsilon_1e-8/training: 1\n",
      "/u/lukas.rilling/experiments/glow_tts_asr_v2/alias/experiments/librispeech/joint_training/given_alignments/raw_audio/TTS_models/glowTTS/enc192/200ep/dec_drop_0.05/training: 1\n",
      "/u/lukas.rilling/experiments/glow_tts_asr_v2/alias/experiments/librispeech/joint_training/given_alignments/raw_audio/TTS_models/glowTTS/enc192/200ep/dec_drop_0.05_epsilon_1e-8/training: 1\n",
      "/u/lukas.rilling/experiments/glow_tts_asr_v2/alias/experiments/librispeech/joint_training/given_alignments/raw_audio/TTS_models/glowTTS_x_vector_v2/enc768/200ep/dec_drop_0.05/training: 1\n",
      "/u/lukas.rilling/experiments/glow_tts_asr_v2/alias/experiments/librispeech/joint_training/given_alignments/raw_audio/TTS_models/glowTTS_x_vector_v2/enc768/200ep/dec_drop_0.0/training: 1\n",
      "/u/lukas.rilling/experiments/glow_tts_asr_v2/alias/experiments/librispeech/joint_training/given_alignments/raw_audio/TTS_models/glowTTS_x_vector_v2/enc768/200ep_long_cooldown/dec_drop_0.05/training: 1\n",
      "/u/lukas.rilling/experiments/glow_tts_asr_v2/alias/experiments/librispeech/joint_training/given_alignments/raw_audio/TTS_models/glowTTS_x_vector_v2/enc768/200ep_long_cooldown/dec_drop_0.0/training: 1\n",
      "/u/lukas.rilling/experiments/glow_tts_asr_v2/alias/experiments/librispeech/joint_training/given_alignments/raw_audio/TTS_models/glowTTS_x_vector_v2/enc192/200ep/dec_drop_0.05/training: 1\n",
      "/u/lukas.rilling/experiments/glow_tts_asr_v2/alias/experiments/librispeech/joint_training/given_alignments/raw_audio/TTS_models/glowTTS_x_vector_v2/enc192/200ep/dec_drop_0.0/training: 1\n",
      "/u/lukas.rilling/experiments/glow_tts_asr_v2/alias/experiments/librispeech/joint_training/given_alignments/raw_audio/TTS_models/glowTTS_simple_encoder/20cb/200ep/dec_drop_0.05/training: 1\n",
      "/u/lukas.rilling/experiments/glow_tts_asr_v2/alias/experiments/librispeech/joint_training/given_alignments/raw_audio/TTS_models/glowTTS_simple_encoder/12cb/200ep/dec_drop_0.05/training: 1\n",
      "Large Font: False\n",
      "Setup Interactive Legend\n",
      "<matplotlib.backends.backend_qtagg.FigureCanvasQTAgg object at 0x7f28f5bd4820>\n"
     ]
    }
   ],
   "source": [
    "error_data = {}\n",
    "labels = list(files.values())\n",
    "for i, lr_file in enumerate(lr_files):\n",
    "    data = get_epoch_data(lr_file, epoch=None)\n",
    "    if data is None:\n",
    "        continue\n",
    "    p_e = 1\n",
    "    print(f\"{lr_file}: {p_e}\")\n",
    "    error_data_tmp = []\n",
    "    for ep, ep_data in data.items():\n",
    "        ep_data_error = ep_data.pop(\"error\", {})\n",
    "        error_data_tmp.append(ep_data)\n",
    "        error_data_tmp[int(ep%p_e)-1].update(ep_data_error)\n",
    "        if ep % p_e == 0:\n",
    "            ep_data2 = pd.DataFrame(error_data_tmp).mean().to_dict()\n",
    "            error_data[(labels[i], int(ep//p_e))] = ep_data2\n",
    "            # error_data[(labels[i], int(ep//p_e))].update(ep_data_error)\n",
    "            error_data_tmp = []\n",
    "df = pd.DataFrame.from_dict(error_data, orient=\"index\")\n",
    "plot_df(\n",
    "    df,\n",
    "    plot_lr=False,\n",
    "    large_font=False,\n",
    "    shrink_axes=0.6,\n",
    "    ylim_max=2,\n",
    "    ylim_min=-0.9,\n",
    "    keys_exclude=\"devtrain|ctc|100ep\",\n",
    "    # color_map=\"Set1\",\n",
    ")"
   ]
  },
  {
   "cell_type": "code",
   "execution_count": 4,
   "metadata": {},
   "outputs": [],
   "source": [
    "# error_data = {}\n",
    "# labels = list(files.values())\n",
    "# for i, lr_file in enumerate(lr_files):\n",
    "#     data = get_epoch_data(lr_file, epoch=None)\n",
    "#     if data is None:\n",
    "#         continue\n",
    "#     for ep, ep_data in data.items():\n",
    "#         ep_data_error = ep_data.pop(\"error\", {})\n",
    "#         error_data[(labels[i], int(ep))] = ep_data\n",
    "#         error_data[(labels[i], int(ep))].update(ep_data_error)\n",
    "# df = pd.DataFrame.from_dict(error_data, orient=\"index\")\n",
    "# plot_df(\n",
    "#     df,\n",
    "#     plot_lr=False,\n",
    "#     large_font=False,\n",
    "#     shrink_axes=0.6,\n",
    "#     # ylim_max=4,\n",
    "#     ylim_min=-0.9,\n",
    "#     keys_exclude=\"devtrain|ctc\",\n",
    "#     color_map=\"Set1\",\n",
    "# )"
   ]
  }
 ],
 "metadata": {
  "kernelspec": {
   "display_name": "sis_env",
   "language": "python",
   "name": "python3"
  },
  "language_info": {
   "codemirror_mode": {
    "name": "ipython",
    "version": 3
   },
   "file_extension": ".py",
   "mimetype": "text/x-python",
   "name": "python",
   "nbconvert_exporter": "python",
   "pygments_lexer": "ipython3",
   "version": "3.10.12"
  }
 },
 "nbformat": 4,
 "nbformat_minor": 2
}
