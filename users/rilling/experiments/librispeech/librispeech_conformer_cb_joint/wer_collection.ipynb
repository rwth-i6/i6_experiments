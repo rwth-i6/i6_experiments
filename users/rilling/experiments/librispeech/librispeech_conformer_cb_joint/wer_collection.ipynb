{
 "cells": [
  {
   "cell_type": "code",
   "execution_count": 2,
   "metadata": {},
   "outputs": [],
   "source": [
    "import sys\n",
    "sys.path.append(\"/u/lukas.rilling/dev/\")\n",
    "import pandas as pd\n",
    "import numpy as np\n",
    "import matplotlib.pyplot as plt\n",
    "import glob\n",
    "import os\n",
    "%matplotlib widget\n",
    "\n",
    "from returnn_training_progress import get_epoch_data\n",
    "from returnn_training_plot_nb import plot_df\n",
    "%load_ext autoreload\n",
    "%autoreload 2"
   ]
  },
  {
   "cell_type": "code",
   "execution_count": 34,
   "metadata": {},
   "outputs": [
    {
     "data": {
      "text/plain": [
       "{'/u/lukas.rilling/experiments/glow_tts_asr_v2/output/experiments/librispeech/joint_training/raw_audio/glowTTS_ASR_conformer_two_forward_pass_ddi_actnorm/': '/glowTTS_ASR_conformer_two_forward_pass_ddi_actnorm',\n",
       " '/u/lukas.rilling/experiments/glow_tts_asr_v2/output/experiments/librispeech/joint_training/raw_audio/glowTTS_ASR_conformer_x_vector_two_forward_pass/': '/glowTTS_ASR_conformer_x_vector_two_forward_pass',\n",
       " '/u/lukas.rilling/experiments/glow_tts_asr_v2/output/experiments/librispeech/joint_training/raw_audio/glowTTS_ASR_conformer_x_vector_two_forward_pass_ctc_scale_0.1/': '/glowTTS_ASR_conformer_x_vector_two_forward_pass_ctc_scale_0.1',\n",
       " '/u/lukas.rilling/experiments/glow_tts_asr_v2/output/experiments/librispeech/joint_training/raw_audio/glowTTS_ASR_conformer_two_forward_pass_ctc_scale_0.1/': '/glowTTS_ASR_conformer_two_forward_pass_ctc_scale_0.1',\n",
       " '/u/lukas.rilling/experiments/glow_tts_asr_v2/output/experiments/librispeech/joint_training/raw_audio/glowTTS_ASR_conformer_two_forward_pass/': '/glowTTS_ASR_conformer_two_forward_pass'}"
      ]
     },
     "execution_count": 34,
     "metadata": {},
     "output_type": "execute_result"
    }
   ],
   "source": [
    "globs = [\n",
    "    # \"/u/lukas.rilling/experiments/glow_tts_asr_v2/output/experiments/librispeech/joint_training/raw_audio/conformer_coupling/ddi/*/\",\n",
    "    # \"/u/lukas.rilling/experiments/glow_tts_asr_v2/output/experiments/librispeech/joint_training/raw_audio/conformer_coupling/no_ddi/*/\",\n",
    "    \"/u/lukas.rilling/experiments/glow_tts_asr_v2/output/experiments/librispeech/joint_training/raw_audio/glowTTS_ASR*_two_forward_pass*/\",\n",
    "]\n",
    "# globs = [\"/u/lukas.rilling/experiments/glow_tts_asr_v2/alias/experiments/librispeech/joint_training/raw_audio/glowTTS_ASR*pass*/training\"]\n",
    "# lr_files = \"/u/lukas.rilling/experiments/glow_tts_asr_v2/alias/experiments/librispeech/librispeech_glow_asr/pytorch/conformer/asr_dataset/spec_augment/glow_enc192_100ep_not_silence_preprocessed_speaker_drop_*/training\"\n",
    "# globs = [\"/u/lukas.rilling/experiments/glow_tts_asr_v2/alias/experiments/librispeech/joint_training/raw_audio/glowTTS_x_vect*/training\", \"/u/lukas.rilling/experiments/glow_tts_asr_v2/alias/experiments/librispeech/joint_training/raw_audio/glowTTS/training\"]\n",
    "lr_files = []\n",
    "for g in globs:\n",
    "    lr_files += glob.glob(g)\n",
    "\n",
    "common_prefix = os.path.commonpath(lr_files)\n",
    "common_sufix = os.path.commonpath([l[::-1] for l in lr_files])[::-1]\n",
    "\n",
    "names = []\n",
    "for f in lr_files:\n",
    "    names.append(f.removeprefix(common_prefix).removesuffix(common_sufix))\n",
    "\n",
    "files = dict(zip(lr_files, names))\n",
    "files"
   ]
  },
  {
   "cell_type": "code",
   "execution_count": 35,
   "metadata": {},
   "outputs": [
    {
     "data": {
      "text/html": [
       "<div>\n",
       "<style scoped>\n",
       "    .dataframe tbody tr th:only-of-type {\n",
       "        vertical-align: middle;\n",
       "    }\n",
       "\n",
       "    .dataframe tbody tr th {\n",
       "        vertical-align: top;\n",
       "    }\n",
       "\n",
       "    .dataframe thead th {\n",
       "        text-align: right;\n",
       "    }\n",
       "</style>\n",
       "<table border=\"1\" class=\"dataframe\">\n",
       "  <thead>\n",
       "    <tr style=\"text-align: right;\">\n",
       "      <th></th>\n",
       "      <th>path</th>\n",
       "      <th>name</th>\n",
       "      <th>wer</th>\n",
       "    </tr>\n",
       "  </thead>\n",
       "  <tbody>\n",
       "    <tr>\n",
       "      <th>0</th>\n",
       "      <td>/u/lukas.rilling/experiments/glow_tts_asr_v2/o...</td>\n",
       "      <td>/glowTTS_ASR_conformer_x_vector_two_forward_pass</td>\n",
       "      <td>41.8</td>\n",
       "    </tr>\n",
       "    <tr>\n",
       "      <th>1</th>\n",
       "      <td>/u/lukas.rilling/experiments/glow_tts_asr_v2/o...</td>\n",
       "      <td>/glowTTS_ASR_conformer_x_vector_two_forward_pa...</td>\n",
       "      <td>54.1</td>\n",
       "    </tr>\n",
       "    <tr>\n",
       "      <th>2</th>\n",
       "      <td>/u/lukas.rilling/experiments/glow_tts_asr_v2/o...</td>\n",
       "      <td>/glowTTS_ASR_conformer_two_forward_pass_ctc_sc...</td>\n",
       "      <td>26.6</td>\n",
       "    </tr>\n",
       "    <tr>\n",
       "      <th>3</th>\n",
       "      <td>/u/lukas.rilling/experiments/glow_tts_asr_v2/o...</td>\n",
       "      <td>/glowTTS_ASR_conformer_two_forward_pass</td>\n",
       "      <td>26.4</td>\n",
       "    </tr>\n",
       "  </tbody>\n",
       "</table>\n",
       "</div>"
      ],
      "text/plain": [
       "                                                path  \\\n",
       "0  /u/lukas.rilling/experiments/glow_tts_asr_v2/o...   \n",
       "1  /u/lukas.rilling/experiments/glow_tts_asr_v2/o...   \n",
       "2  /u/lukas.rilling/experiments/glow_tts_asr_v2/o...   \n",
       "3  /u/lukas.rilling/experiments/glow_tts_asr_v2/o...   \n",
       "\n",
       "                                                name   wer  \n",
       "0   /glowTTS_ASR_conformer_x_vector_two_forward_pass  41.8  \n",
       "1  /glowTTS_ASR_conformer_x_vector_two_forward_pa...  54.1  \n",
       "2  /glowTTS_ASR_conformer_two_forward_pass_ctc_sc...  26.6  \n",
       "3            /glowTTS_ASR_conformer_two_forward_pass  26.4  "
      ]
     },
     "execution_count": 35,
     "metadata": {},
     "output_type": "execute_result"
    }
   ],
   "source": [
    "df = pd.DataFrame(columns = [\"path\", \"name\", \"wer\"])\n",
    "for path,name in files.items():\n",
    "    all_pathes = f\"{path}tuning/*/search/dev-other/sclite/wer\"\n",
    "    all_pathes = glob.glob(all_pathes)\n",
    "    if len(all_pathes) == 0:\n",
    "        continue\n",
    "    results = []\n",
    "    for p in all_pathes:\n",
    "        with open(p, \"r\") as f:\n",
    "            results.append(float(f.readline()))\n",
    "    best = np.min(results)\n",
    "    df.loc[len(df)] = [path, name, best]\n",
    "df"
   ]
  },
  {
   "cell_type": "code",
   "execution_count": 36,
   "metadata": {},
   "outputs": [
    {
     "name": "stdout",
     "output_type": "stream",
     "text": [
      "| path                                                                                                                                                                | name                                                           |   wer |\n",
      "|:--------------------------------------------------------------------------------------------------------------------------------------------------------------------|:---------------------------------------------------------------|------:|\n",
      "| /u/lukas.rilling/experiments/glow_tts_asr_v2/output/experiments/librispeech/joint_training/raw_audio/glowTTS_ASR_conformer_x_vector_two_forward_pass/               | /glowTTS_ASR_conformer_x_vector_two_forward_pass               |  41.8 |\n",
      "| /u/lukas.rilling/experiments/glow_tts_asr_v2/output/experiments/librispeech/joint_training/raw_audio/glowTTS_ASR_conformer_x_vector_two_forward_pass_ctc_scale_0.1/ | /glowTTS_ASR_conformer_x_vector_two_forward_pass_ctc_scale_0.1 |  54.1 |\n",
      "| /u/lukas.rilling/experiments/glow_tts_asr_v2/output/experiments/librispeech/joint_training/raw_audio/glowTTS_ASR_conformer_two_forward_pass_ctc_scale_0.1/          | /glowTTS_ASR_conformer_two_forward_pass_ctc_scale_0.1          |  26.6 |\n",
      "| /u/lukas.rilling/experiments/glow_tts_asr_v2/output/experiments/librispeech/joint_training/raw_audio/glowTTS_ASR_conformer_two_forward_pass/                        | /glowTTS_ASR_conformer_two_forward_pass                        |  26.4 |\n"
     ]
    }
   ],
   "source": [
    "print(df.to_markdown(index=False))"
   ]
  }
 ],
 "metadata": {
  "kernelspec": {
   "display_name": "sis_env",
   "language": "python",
   "name": "python3"
  },
  "language_info": {
   "codemirror_mode": {
    "name": "ipython",
    "version": 3
   },
   "file_extension": ".py",
   "mimetype": "text/x-python",
   "name": "python",
   "nbconvert_exporter": "python",
   "pygments_lexer": "ipython3",
   "version": "3.10.12"
  }
 },
 "nbformat": 4,
 "nbformat_minor": 2
}
